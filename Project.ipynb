{
 "cells": [
  {
   "cell_type": "markdown",
   "id": "69e2b9f7",
   "metadata": {},
   "source": [
    "# Statistical Analysis and Prediction of Stores Sales \n",
    "### Akshay Kumar\n",
    "### Student no: 202095271\n",
    "#### Due Date: 13 June 2022"
   ]
  },
  {
   "cell_type": "markdown",
   "id": "dcbfa8bc",
   "metadata": {},
   "source": [
    "## Importing the libraries"
   ]
  },
  {
   "cell_type": "code",
   "execution_count": 36,
   "id": "b30e3664",
   "metadata": {},
   "outputs": [],
   "source": [
    "import pandas as pd\n",
    "import numpy as np\n",
    "import scipy as sp\n",
    "import matplotlib.pyplot as plt\n",
    "import scipy.stats as stats\n",
    "import seaborn as sns"
   ]
  },
  {
   "cell_type": "markdown",
   "id": "6a1d5413",
   "metadata": {},
   "source": [
    "## Reading the data using pandas"
   ]
  },
  {
   "cell_type": "code",
   "execution_count": 56,
   "id": "013fb2ed",
   "metadata": {},
   "outputs": [],
   "source": [
    "class ReadData(object):\n",
    "    def __init__(self,pathname):\n",
    "        self.pathname = pathname\n",
    "    \n",
    "    def getDataFrame(self):\n",
    "        df = pd.read_csv(self.pathname)\n",
    "        return df\n",
    "        \n",
    "        \n",
    "\n"
   ]
  },
  {
   "cell_type": "markdown",
   "id": "abc3f9c4",
   "metadata": {},
   "source": [
    "## Performing statistical operations using Numpy and Scipy"
   ]
  },
  {
   "cell_type": "code",
   "execution_count": 121,
   "id": "d0da1b28",
   "metadata": {},
   "outputs": [],
   "source": [
    "class Calculation(object):\n",
    "    \n",
    "    \n",
    "    def __init__(self,dataframe):\n",
    "        self.df = dataframe\n",
    "        self.thisdict = {}\n",
    "        \n",
    "        \n",
    "    def getStatistics(self,columnIndex):\n",
    "        #first convert the dataframe to np array\n",
    "        arr = df.to_numpy()\n",
    "        \n",
    "        #calculating mean, median and standard deviation\n",
    "\n",
    "        col_mean = np.mean(arr,axis=0)\n",
    "        mean = col_mean[columnIndex]\n",
    "        self.thisdict['Mean'] = mean\n",
    "        print(\"Mean:\",mean)\n",
    "\n",
    "        #To calcualte the median, we will have to sort the array in ascending order first\n",
    "        sorted_arr = arr[arr[:, columnIndex].argsort()]\n",
    "        col_median = np.median(sorted_arr,axis=0)\n",
    "        self.thisdict['Median'] = col_median[columnIndex]\n",
    "        print('Median is:',col_median[columnIndex])\n",
    "\n",
    "        #Calculating standard deviation\n",
    "        st_dv = np.std(arr,axis=0)\n",
    "        self.thisdict['Standard Deviation'] = st_dv[columnIndex]\n",
    "        print('Standard Deviation of is:',st_dv[columnIndex])\n",
    "\n",
    "        percentile = np.percentile(arr,axis=0,q=75)\n",
    "        self.thisdict['75% Percentile'] = percentile[columnIndex]\n",
    "        print('75% percentile of store sales:',percentile[columnIndex])\n",
    "        \n",
    "        \n",
    "        #writing all the computed data in csv file using pandas\n",
    "        pd.DataFrame.from_dict(data=self.thisdict, orient='index').to_csv('dict_file.csv', header=False)\n",
    "        \n",
    "        \n",
    "        return self.thisdict\n",
    "        \n",
    "    def getCorelation(self,firstColumnIndex,secondColumnIndex,dataframe):\n",
    "        #using scipy pearsonr function to find corelation between features of the dataset. Such that how strong is the relation between store area and store sales or customer_count and store sales\n",
    "        #Correlations of -1 or +1 imply an exact linear relationship\n",
    "        arr = dataframe.to_numpy()\n",
    "        r = stats.pearsonr(arr[firstColumnIndex],arr[secondColumnIndex])\n",
    "        print(r)\n",
    "        \n"
   ]
  },
  {
   "cell_type": "markdown",
   "id": "d312d265",
   "metadata": {},
   "source": [
    "## Creating some visualizations"
   ]
  },
  {
   "cell_type": "code",
   "execution_count": 109,
   "id": "c3d48584",
   "metadata": {},
   "outputs": [],
   "source": [
    "class Visualizations(object):\n",
    "    def __init__(self,dataframe):\n",
    "        self.df = dataframe\n",
    "        \n",
    "    def firstscatterplot(self):\n",
    "        f, ax = plt.subplots(figsize=(6, 6))\n",
    "        ax.scatter(x=df['Store_Area'],y=df['Daily_Customer_Count'], alpha=0.5,c=\"g\")\n",
    "        ax.set_xlabel(\"Store Area\")\n",
    "        ax.set_ylabel(\"Customer count\")\n",
    "        #ax.plot(ax.get_xlim(), ax.get_ylim(), ls=\"--\", c=\".3\")\n",
    "        ax.set_title('Does the store area affect customer count')\n",
    "        f.show()\n",
    "\n",
    "    def secondscatterplot(self,firstVariableName,secondVariableName):\n",
    "        f, ax = plt.subplots(figsize=(6, 6))\n",
    "        ax.scatter(x=df[firstVariableName],y=df[secondVariableName], alpha=0.5,c=\"m\")\n",
    "        ax.set_xlabel(firstVariableName)\n",
    "        ax.set_ylabel(secondVariableName)\n",
    "        ax.set_title('Does {} affect {}'.format(firstVariableName,secondVariableName))\n",
    "        f.show()\n",
    "        \n",
    "    def histplot(self,columnName):\n",
    "        #create histogram to see the distribution of store sales\n",
    "        plt.figure(figsize=(7, 7))\n",
    "        plt.title(\"Distribution of {}\".format(columnName))\n",
    "        sns.histplot(df[columnName], stat='density',color='green')\n",
    "        sns.kdeplot(df[columnName], color='black')\n",
    "        plt.axvline(df[columnName].mean(), color='red', linestyle='--', linewidth=0.8)\n",
    "        min_ylim, max_ylim = plt.ylim()\n",
    "        plt.text(df[columnName].mean()*1.05, max_ylim*0.96, 'Mean (μ): {:.2f}'.format(df[columnName].mean()))\n",
    "        plt.xlabel(\"Score\")\n",
    "        plt.ylabel(\"Density\")\n",
    "        plt.show()\n",
    "        \n",
    "        \n"
   ]
  },
  {
   "cell_type": "markdown",
   "id": "5a7fc7f9",
   "metadata": {},
   "source": [
    "## Using Machine learning to predict Store sales based on Store Area and Items Available"
   ]
  },
  {
   "cell_type": "code",
   "execution_count": 110,
   "id": "b8da2b9f",
   "metadata": {},
   "outputs": [],
   "source": [
    "from sklearn.model_selection import train_test_split\n",
    "from sklearn.neighbors import KNeighborsRegressor\n",
    "from sklearn.linear_model import LinearRegression\n",
    "from sklearn.metrics import mean_absolute_error, mean_squared_error, mean_squared_log_error\n",
    "\n",
    "\n",
    "\n",
    "models = [LinearRegression(),KNeighborsRegressor()]\n",
    "\n",
    "class Predict():\n",
    "    \n",
    "    def __init__(self,x,y):\n",
    "        self.x = x\n",
    "        self.y = y\n",
    "        \n",
    "    \n",
    "    def trainAndTestModel(self):\n",
    "        X_train, X_test, y_train, y_test=train_test_split(x,y,test_size=0.2,random_state=42)\n",
    "        for m in models:\n",
    "            m.fit(X_train, y_train)\n",
    "            y_pred = m.predict(X_test)\n",
    "\n",
    "           # print(f'model: {str(m)}')\n",
    "           # print(f'RMSE: {mean_squared_error(y_test,y_pred)}')\n",
    "           # print(f'MAE: {mean_absolute_error(y_test, y_pred)}')\n",
    "           # print('-'*30, '\\n')\n",
    "        \n",
    "    \n",
    "    def predict(self,x_pred):\n",
    "        for m in models:\n",
    "           # print(x_pred)\n",
    "            predict_values = m.predict(x_pred)\n",
    "            print('Store Sales predicted by {}: {}'.format(m,predict_values))\n",
    "        \n",
    "        \n",
    "\n",
    "\n"
   ]
  },
  {
   "cell_type": "code",
   "execution_count": null,
   "id": "3cc599bc",
   "metadata": {},
   "outputs": [],
   "source": []
  }
 ],
 "metadata": {
  "kernelspec": {
   "display_name": "Python 3 (ipykernel)",
   "language": "python",
   "name": "python3"
  },
  "language_info": {
   "codemirror_mode": {
    "name": "ipython",
    "version": 3
   },
   "file_extension": ".py",
   "mimetype": "text/x-python",
   "name": "python",
   "nbconvert_exporter": "python",
   "pygments_lexer": "ipython3",
   "version": "3.9.12"
  }
 },
 "nbformat": 4,
 "nbformat_minor": 5
}
